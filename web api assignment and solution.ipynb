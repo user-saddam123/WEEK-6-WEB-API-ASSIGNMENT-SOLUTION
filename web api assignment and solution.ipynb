{
 "cells": [
  {
   "cell_type": "markdown",
   "id": "78f8ade5-3f18-4f37-9be4-503852448188",
   "metadata": {},
   "source": [
    "Web Api ASSIGNMENT SOLUTION"
   ]
  },
  {
   "cell_type": "markdown",
   "id": "599cd10f-f611-41fa-8c5f-82fe1ae38d0b",
   "metadata": {},
   "source": [
    "THIS Assignment solution by-SADDAM ANSARI for PW-SKILLS during the data science masters program course."
   ]
  },
  {
   "cell_type": "code",
   "execution_count": null,
   "id": "92cebb90-d694-43dd-879b-58106dc1b21a",
   "metadata": {},
   "outputs": [],
   "source": []
  },
  {
   "cell_type": "markdown",
   "id": "c6e120fd-bb4f-428f-8b47-7ed015a59ef5",
   "metadata": {},
   "source": [
    "Q1. What is an API? Give an example, where an API is used in real life."
   ]
  },
  {
   "cell_type": "markdown",
   "id": "8619ab1c-310b-4e58-a003-b8f726b2be95",
   "metadata": {},
   "source": [
    "* An API (Application Programming Interface) is a set of rules and protocols that allows different software applications to communicate and interact with each other.\n",
    "\n",
    "Example of API usage in real life:\n",
    "1. One common example of API usage in real life is when WE use a weather application or website to get current weather information. but weather website doesnot gather or generate the weather data but its use a another API for fatch the weather data.\n",
    "\n",
    "2. same as our payment apps like as phonepay,google pay , and many more are used to API for fatch our data into the our bank.\n",
    "\n",
    "3. even google use api for get a result thats why according to me knowledge every where use api because without API its not easily posible to make a perfect web app."
   ]
  },
  {
   "cell_type": "code",
   "execution_count": null,
   "id": "9a62abba-50fd-4388-b509-471004bd9bd6",
   "metadata": {},
   "outputs": [],
   "source": []
  },
  {
   "cell_type": "markdown",
   "id": "55b895ff-e42d-46e5-83f5-bf05d4725715",
   "metadata": {},
   "source": [
    "Q2. Give advantages and disadvantages of using API."
   ]
  },
  {
   "cell_type": "markdown",
   "id": "a834c1e8-745e-4289-8996-ade6f0317785",
   "metadata": {},
   "source": [
    "* Advantages of Using APIs:\n",
    "1. Code Reusability: APIs enable code reuse by providing pre-built functionalities and services.\n",
    "\n",
    "2. Increased Efficiency: APIs allow developers to access and utilize services or data from external sources, eliminating the need to build everything from scratch.\n",
    "\n",
    "3. Scalability: APIs provide a scalable approach to application development.\n",
    "\n",
    "* Disadvantages of Using APIs:\n",
    "1. Dependency on External Services: When relying on external APIs, applications become dependent on the availability and reliability of those services. \n",
    "\n",
    "2. Security and Privacy Concerns: Integrating external APIs introduces potential security risks, especially if proper security measures are not implemented.\n",
    "\n",
    "3. Lack of Control: When using external APIs, developers have limited control over the functionality, performance, or availability of the underlying services."
   ]
  },
  {
   "cell_type": "code",
   "execution_count": null,
   "id": "67684a72-55ff-428e-8d68-6867c796b931",
   "metadata": {},
   "outputs": [],
   "source": []
  },
  {
   "cell_type": "markdown",
   "id": "5ff88c6a-df8b-4fc0-8969-845da7dc5ff8",
   "metadata": {},
   "source": [
    "Q3. What is a Web API? Differentiate between API and Web API."
   ]
  },
  {
   "cell_type": "markdown",
   "id": "a7e89647-64e0-41f0-b867-c2744eaf8185",
   "metadata": {},
   "source": [
    "* WEB API:A Web API, also known as a Web Service API or HTTP API, is an API specifically designed to enable communication and data exchange between web-based applications over the HTTP protocol. \n",
    "\n",
    "* diffrence beetwen api and web api:\n",
    " * an API is a set of rules and protocols that define how software components should interact. It can include various types of APIs, including web APIs. Web APIs specifically focus on facilitating communication between web applications using the HTTP protocol. While APIs can have different communication protocols and formats, web APIs use HTTP and commonly exchange data in formats such as JSON or XML. Web APIs leverage web-specific features and are accessible over the internet, making them suitable for integrating web-based applications across different domains and networks."
   ]
  },
  {
   "cell_type": "code",
   "execution_count": null,
   "id": "61d86333-a8e3-46b5-b605-7523c7b30349",
   "metadata": {},
   "outputs": [],
   "source": []
  },
  {
   "cell_type": "markdown",
   "id": "193af2ea-c0e1-4e89-8885-97f28ecd9301",
   "metadata": {},
   "source": [
    "Q4. Explain REST and SOAP Architecture. Mention shortcomings of SOAP."
   ]
  },
  {
   "cell_type": "markdown",
   "id": "556b13b3-4b31-443b-a89d-66a9e66aa822",
   "metadata": {},
   "source": [
    "1. REST Architecture: REST is an architectural style that emphasizes simplicity, scalability, and statelessness in web services. It is widely used in modern web development.\n",
    "\n",
    "2. SOAP Architecture: SOAP is an XML-based messaging protocol that defines a set of rules for structuring messages between web services. It emphasizes formal contracts and extensive XML schema definitions.\n",
    "\n",
    "* Shortcomings of SOAP:\n",
    "        1. complexbility: SOAP can be complex to implement and understand due to its extensive XML-based messaging and formal contracts. \n",
    "        2. Lack of Flexibility: SOAP has a more rigid structure and protocol compared to REST.\n",
    "        "
   ]
  },
  {
   "cell_type": "code",
   "execution_count": null,
   "id": "827936a0-9ec1-4955-933c-e60e656ae47e",
   "metadata": {},
   "outputs": [],
   "source": []
  },
  {
   "cell_type": "markdown",
   "id": "ae88d87d-d423-4572-82e8-dac5be8ed291",
   "metadata": {},
   "source": [
    "Q5. Differentiate between REST and SOAP."
   ]
  },
  {
   "cell_type": "markdown",
   "id": "ae402a55-303f-4ec6-86c9-1083a6a19594",
   "metadata": {},
   "source": [
    "1. REST (Representational State Transfer) is an architectural style for designing networked applications, particularly web services. It is based on a set of principles and constraints that emphasize simplicity, scalability, and interoperability. \n",
    "\n",
    "2. SOAP (Simple Object Access Protocol) is a protocol for exchanging structured information in web services. It is a messaging protocol that defines a set of rules for how applications can communicate with each other over a network. SOAP messages are typically exchanged using XML (Extensible Markup Language) and can be sent over various protocols such as HTTP, SMTP, or others."
   ]
  },
  {
   "cell_type": "code",
   "execution_count": null,
   "id": "1119ffef-c4e1-4125-8ed7-ad5a650a3589",
   "metadata": {},
   "outputs": [],
   "source": []
  },
  {
   "cell_type": "markdown",
   "id": "f814acda-43af-472f-aeff-314c90ff6c20",
   "metadata": {},
   "source": [
    "* BY-SADDAM ANSARI\n",
    "* PLACE- SAHASA \n",
    "* DATE- 13/07/2023 "
   ]
  },
  {
   "cell_type": "code",
   "execution_count": null,
   "id": "a955d737-d329-4d56-b3ac-d54af4e64ec0",
   "metadata": {},
   "outputs": [],
   "source": []
  }
 ],
 "metadata": {
  "kernelspec": {
   "display_name": "Python 3 (ipykernel)",
   "language": "python",
   "name": "python3"
  },
  "language_info": {
   "codemirror_mode": {
    "name": "ipython",
    "version": 3
   },
   "file_extension": ".py",
   "mimetype": "text/x-python",
   "name": "python",
   "nbconvert_exporter": "python",
   "pygments_lexer": "ipython3",
   "version": "3.10.8"
  }
 },
 "nbformat": 4,
 "nbformat_minor": 5
}
